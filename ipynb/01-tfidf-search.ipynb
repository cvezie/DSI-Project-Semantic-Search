{
 "cells": [
  {
   "cell_type": "markdown",
   "metadata": {},
   "source": [
    "# ***Latent Semantic Analysis: Machine Learning***\n",
    "### Goals:\n",
    "* Pull data from MongoDB\n",
    "* TFIDF data\n",
    "* Write function that uses LSA to search the pages and find the top 5 articles relating to a given search query\n",
    "\n",
    "### Output:\n",
    "* Top 5 articles that relate to search query\n",
    "\n",
    "## 1. Load Data from MongoDB\n",
    "* Remove duplicates"
   ]
  },
  {
   "cell_type": "code",
   "execution_count": 1,
   "metadata": {
    "scrolled": true
   },
   "outputs": [
    {
     "name": "stdout",
     "output_type": "stream",
     "text": [
      "/home/jovyan/dsi/assignments/p4\n"
     ]
    }
   ],
   "source": [
    "cd .."
   ]
  },
  {
   "cell_type": "code",
   "execution_count": 2,
   "metadata": {},
   "outputs": [],
   "source": [
    "%run __init__.py"
   ]
  },
  {
   "cell_type": "code",
   "execution_count": 3,
   "metadata": {},
   "outputs": [],
   "source": [
    "%matplotlib inline"
   ]
  },
  {
   "cell_type": "code",
   "execution_count": 4,
   "metadata": {},
   "outputs": [],
   "source": [
    "client = pymongo.MongoClient('34.215.225.199', 27016)\n",
    "db_ref = client.wiki_database\n",
    "wiki_ref = db_ref.wiki_database"
   ]
  },
  {
   "cell_type": "code",
   "execution_count": 5,
   "metadata": {},
   "outputs": [],
   "source": [
    "wiki_data = []\n",
    "cursor = wiki_ref.find({})\n",
    "for document in cursor:\n",
    "    wiki_data.append(document)"
   ]
  },
  {
   "cell_type": "code",
   "execution_count": 6,
   "metadata": {},
   "outputs": [
    {
     "data": {
      "text/html": [
       "<div>\n",
       "<table border=\"1\" class=\"dataframe\">\n",
       "  <thead>\n",
       "    <tr style=\"text-align: right;\">\n",
       "      <th></th>\n",
       "      <th>_id</th>\n",
       "      <th>category</th>\n",
       "      <th>pageid</th>\n",
       "      <th>text</th>\n",
       "    </tr>\n",
       "  </thead>\n",
       "  <tbody>\n",
       "    <tr>\n",
       "      <th>0</th>\n",
       "      <td>5a1506d02c74b40013488ead</td>\n",
       "      <td>Machine learning</td>\n",
       "      <td>43385931</td>\n",
       "      <td>multiple issuesrefimprovedatejuly footnotesdat...</td>\n",
       "    </tr>\n",
       "    <tr>\n",
       "      <th>1</th>\n",
       "      <td>5a1506d22c74b40013488eae</td>\n",
       "      <td>Machine learning</td>\n",
       "      <td>49082762</td>\n",
       "      <td>use dmy datesdateseptember machine learn barth...</td>\n",
       "    </tr>\n",
       "    <tr>\n",
       "      <th>2</th>\n",
       "      <td>5a1506d42c74b40013488eaf</td>\n",
       "      <td>Machine learning</td>\n",
       "      <td>233488</td>\n",
       "      <td>forthe journalmachine learn journalmachine lea...</td>\n",
       "    </tr>\n",
       "    <tr>\n",
       "      <th>3</th>\n",
       "      <td>5a1506d52c74b40013488eb0</td>\n",
       "      <td>Machine learning</td>\n",
       "      <td>53587467</td>\n",
       "      <td>attention outline set outline list portalconte...</td>\n",
       "    </tr>\n",
       "    <tr>\n",
       "      <th>4</th>\n",
       "      <td>5a1506d62c74b40013488eb1</td>\n",
       "      <td>Machine learning</td>\n",
       "      <td>3771060</td>\n",
       "      <td>accuracy paradox predictive analytic state pre...</td>\n",
       "    </tr>\n",
       "    <tr>\n",
       "      <th>5</th>\n",
       "      <td>5a1506d72c74b40013488eb2</td>\n",
       "      <td>Machine learning</td>\n",
       "      <td>43808044</td>\n",
       "      <td>machine learn baraction model learning abbrevi...</td>\n",
       "    </tr>\n",
       "    <tr>\n",
       "      <th>6</th>\n",
       "      <td>5a1506d82c74b40013488eb3</td>\n",
       "      <td>Machine learning</td>\n",
       "      <td>28801798</td>\n",
       "      <td>abouta machine learn methodactive learning con...</td>\n",
       "    </tr>\n",
       "    <tr>\n",
       "      <th>7</th>\n",
       "      <td>5a1506d82c74b40013488eb4</td>\n",
       "      <td>Machine learning</td>\n",
       "      <td>45049676</td>\n",
       "      <td>adversarial machine learning research field li...</td>\n",
       "    </tr>\n",
       "    <tr>\n",
       "      <th>8</th>\n",
       "      <td>5a1506d92c74b40013488eb5</td>\n",
       "      <td>Machine learning</td>\n",
       "      <td>52642349</td>\n",
       "      <td>infobox artist aiva nationality luxembourgish ...</td>\n",
       "    </tr>\n",
       "    <tr>\n",
       "      <th>9</th>\n",
       "      <td>5a1506da2c74b40013488eb6</td>\n",
       "      <td>Machine learning</td>\n",
       "      <td>30511763</td>\n",
       "      <td>multiple issuescoidatenovember expert neededwi...</td>\n",
       "    </tr>\n",
       "  </tbody>\n",
       "</table>\n",
       "</div>"
      ],
      "text/plain": [
       "                        _id          category    pageid  \\\n",
       "0  5a1506d02c74b40013488ead  Machine learning  43385931   \n",
       "1  5a1506d22c74b40013488eae  Machine learning  49082762   \n",
       "2  5a1506d42c74b40013488eaf  Machine learning    233488   \n",
       "3  5a1506d52c74b40013488eb0  Machine learning  53587467   \n",
       "4  5a1506d62c74b40013488eb1  Machine learning   3771060   \n",
       "5  5a1506d72c74b40013488eb2  Machine learning  43808044   \n",
       "6  5a1506d82c74b40013488eb3  Machine learning  28801798   \n",
       "7  5a1506d82c74b40013488eb4  Machine learning  45049676   \n",
       "8  5a1506d92c74b40013488eb5  Machine learning  52642349   \n",
       "9  5a1506da2c74b40013488eb6  Machine learning  30511763   \n",
       "\n",
       "                                                text  \n",
       "0  multiple issuesrefimprovedatejuly footnotesdat...  \n",
       "1  use dmy datesdateseptember machine learn barth...  \n",
       "2  forthe journalmachine learn journalmachine lea...  \n",
       "3  attention outline set outline list portalconte...  \n",
       "4  accuracy paradox predictive analytic state pre...  \n",
       "5  machine learn baraction model learning abbrevi...  \n",
       "6  abouta machine learn methodactive learning con...  \n",
       "7  adversarial machine learning research field li...  \n",
       "8  infobox artist aiva nationality luxembourgish ...  \n",
       "9  multiple issuescoidatenovember expert neededwi...  "
      ]
     },
     "execution_count": 6,
     "metadata": {},
     "output_type": "execute_result"
    }
   ],
   "source": [
    "wiki_df = pd.DataFrame(wiki_data)\n",
    "wiki_df.drop_duplicates(subset=['pageid'], inplace=True)\n",
    "wiki_df.head(10)"
   ]
  },
  {
   "cell_type": "markdown",
   "metadata": {},
   "source": [
    "## 2. TFIDF"
   ]
  },
  {
   "cell_type": "code",
   "execution_count": 7,
   "metadata": {},
   "outputs": [],
   "source": [
    "tfidf = TfidfVectorizer(min_df=10, ngram_range=(1,3))\n",
    "X_tf = tfidf.fit_transform(wiki_df['text'])"
   ]
  },
  {
   "cell_type": "code",
   "execution_count": 8,
   "metadata": {},
   "outputs": [],
   "source": [
    "doc_term_matrix_df = pd.DataFrame(X_tf.toarray(),\n",
    "                                  index=wiki_df.index,\n",
    "                                  columns=tfidf.get_feature_names())"
   ]
  },
  {
   "cell_type": "code",
   "execution_count": 9,
   "metadata": {
    "scrolled": true
   },
   "outputs": [
    {
     "data": {
      "text/plain": [
       "(2665, 12001)"
      ]
     },
     "execution_count": 9,
     "metadata": {},
     "output_type": "execute_result"
    }
   ],
   "source": [
    "doc_term_matrix_df.shape"
   ]
  },
  {
   "cell_type": "markdown",
   "metadata": {},
   "source": [
    "#### Plots to show the top 30 words"
   ]
  },
  {
   "cell_type": "code",
   "execution_count": 10,
   "metadata": {
    "scrolled": true
   },
   "outputs": [
    {
     "data": {
      "image/png": "[encoded data removed]",
      "text/plain": [
       "<matplotlib.figure.Figure at 0x7fdd875234a8>"
      ]
     },
     "metadata": {},
     "output_type": "display_data"
    }
   ],
   "source": [
    "fig = plt.figure(figsize=(20,10))\n",
    "_ = doc_term_matrix_df.sum(axis=0).sort_values(ascending=False)[:30].plot.barh()\n",
    "# plt.savefig('./figures/top_30_words.png')\n",
    "# plt.savefig('./figures/top_30_words.pdf')"
   ]
  },
  {
   "cell_type": "markdown",
   "metadata": {},
   "source": [
    "## 3. Search\n",
    "* Using LSA and cosine similarity to find the most similar articles."
   ]
  },
  {
   "cell_type": "code",
   "execution_count": 18,
   "metadata": {},
   "outputs": [],
   "source": [
    "def find_page_matches(query, target, df, n_components):\n",
    "    \"\"\"\n",
    "        Params:\n",
    "        -------\n",
    "            query: \n",
    "                str, search query.\n",
    "            target: \n",
    "                series, target column from the DataFrame to tfidf.\n",
    "            df: \n",
    "                full DataFrame.\n",
    "            n_components: \n",
    "                int, number of components for SVD\n",
    "        Returns:\n",
    "            Top 5 articles relating to search query.\n",
    "        -------\n",
    "    \"\"\"\n",
    "    \n",
    "#     tfidf the train data\n",
    "    tfidf              = TfidfVectorizer(min_df=5, ngram_range=(1,3))\n",
    "    X_tf               = tfidf.fit_transform(target) # X_tf is a sparse matrix\n",
    "    doc_term_matrix_df = pd.DataFrame(X_tf.toarray(),\n",
    "                                      index=df.index,\n",
    "                                      columns=tfidf.get_feature_names())\n",
    "       \n",
    "    \n",
    "#     tfidf the search query\n",
    "    query_series            = pd.Series(query)\n",
    "    search_terms_encoded    = tfidf.transform(query_series)\n",
    "    \n",
    "    search_terms_encoded_df = pd.DataFrame(search_terms_encoded.toarray(), \n",
    "                                           index=query_series, \n",
    "                                           columns=tfidf.get_feature_names())\n",
    "    \n",
    "    \n",
    "#     instantiate SVD and fit on X_tf.\n",
    "    svd               = TruncatedSVD(n_components)\n",
    "    component_names   = ['component_'+str(i+1) for i in range(n_components)]\n",
    "\n",
    "    svd_matrix        = svd.fit_transform(X_tf.toarray())\n",
    "    svd_search_matrix = svd.transform(search_terms_encoded_df)\n",
    "    svd_df            = pd.DataFrame(svd_matrix,\n",
    "                                     index=df.index,\n",
    "                                     columns=component_names)\n",
    "    \n",
    "    \n",
    "#     use lsa and cosine similarity to find the most similar vector\n",
    "    lsa               = pd.DataFrame(svd_matrix,\n",
    "                                     index=doc_term_matrix_df.index,\n",
    "                                     columns=component_names)\n",
    "    lsa['text']       = df.text\n",
    "    lsa['category']   = df.category\n",
    "    lsa['pageid']     = df.pageid\n",
    "    lsa['cosine_sim'] = cosine_similarity(svd_df, \n",
    "                                          svd_search_matrix)\n",
    "    \n",
    "#     find the top 5 related articles\n",
    "    top_5_rows = lsa.sort_values('cosine_sim', \n",
    "                                 ascending=False)\\\n",
    "                                 .head(5)\n",
    "    top_5_articles = top_5_rows[['text', 'category', 'pageid', 'cosine_sim']] \n",
    "    \n",
    "    return top_5_articles"
   ]
  },
  {
   "cell_type": "code",
   "execution_count": 19,
   "metadata": {
    "scrolled": true
   },
   "outputs": [
    {
     "data": {
      "text/html": [
       "<div>\n",
       "<table border=\"1\" class=\"dataframe\">\n",
       "  <thead>\n",
       "    <tr style=\"text-align: right;\">\n",
       "      <th></th>\n",
       "      <th>text</th>\n",
       "      <th>category</th>\n",
       "      <th>pageid</th>\n",
       "      <th>cosine_sim</th>\n",
       "    </tr>\n",
       "  </thead>\n",
       "  <tbody>\n",
       "    <tr>\n",
       "      <th>3067</th>\n",
       "      <td>oracle enterprise resource planning cloud orac...</td>\n",
       "      <td>ERP software</td>\n",
       "      <td>54825621</td>\n",
       "      <td>0.934508</td>\n",
       "    </tr>\n",
       "    <tr>\n",
       "      <th>3068</th>\n",
       "      <td>aboutapplication oracle fusion consist part or...</td>\n",
       "      <td>ERP software</td>\n",
       "      <td>20098563</td>\n",
       "      <td>0.806687</td>\n",
       "    </tr>\n",
       "    <tr>\n",
       "      <th>3588</th>\n",
       "      <td>oracle application comprise application softwa...</td>\n",
       "      <td>Project management software</td>\n",
       "      <td>2504464</td>\n",
       "      <td>0.751430</td>\n",
       "    </tr>\n",
       "    <tr>\n",
       "      <th>3241</th>\n",
       "      <td>sourcedatedecember oracle health science famil...</td>\n",
       "      <td>Healthcare software</td>\n",
       "      <td>44739552</td>\n",
       "      <td>0.737688</td>\n",
       "    </tr>\n",
       "    <tr>\n",
       "      <th>2212</th>\n",
       "      <td>use american englishdateapril use mdy datesdat...</td>\n",
       "      <td>Business software companies</td>\n",
       "      <td>22591</td>\n",
       "      <td>0.730063</td>\n",
       "    </tr>\n",
       "  </tbody>\n",
       "</table>\n",
       "</div>"
      ],
      "text/plain": [
       "                                                   text  \\\n",
       "3067  oracle enterprise resource planning cloud orac...   \n",
       "3068  aboutapplication oracle fusion consist part or...   \n",
       "3588  oracle application comprise application softwa...   \n",
       "3241  sourcedatedecember oracle health science famil...   \n",
       "2212  use american englishdateapril use mdy datesdat...   \n",
       "\n",
       "                         category    pageid  cosine_sim  \n",
       "3067                 ERP software  54825621    0.934508  \n",
       "3068                 ERP software  20098563    0.806687  \n",
       "3588  Project management software   2504464    0.751430  \n",
       "3241          Healthcare software  44739552    0.737688  \n",
       "2212  Business software companies     22591    0.730063  "
      ]
     },
     "execution_count": 19,
     "metadata": {},
     "output_type": "execute_result"
    }
   ],
   "source": [
    "find_page_matches(\"Oracle ERP\", wiki_df['text'], wiki_df, 100)"
   ]
  },
  {
   "cell_type": "markdown",
   "metadata": {},
   "source": [
    "## Results Analysis\n",
    "\n",
    "The steps in the `find_page_matches` function are clearly laid out however, it is quite a long function and a way to improve this work would be to make it more succinct. \n",
    "\n",
    "The returned pages relate well to the search query - the top two fall under the same category as the query. The fourth and fifth seem less similar to the query as they seem to relate more to healthcare software than to cloud resource planning software. Perhaps changing the value in `n_component` could have made a difference in categorizing the query. Also, coming up with a way to maintain the hierarchy of sub-categories in Mongo would have led to a more robust dataframe from which to choose related articles. That may have allowed me to pull more of the Business Software sub categories without skewing the data to that API.\n"
   ]
  },
  {
   "cell_type": "code",
   "execution_count": null,
   "metadata": {},
   "outputs": [],
   "source": []
  }
 ],
 "metadata": {
  "kernelspec": {
   "display_name": "Python 3",
   "language": "python",
   "name": "python3"
  },
  "language_info": {
   "codemirror_mode": {
    "name": "ipython",
    "version": 3
   },
   "file_extension": ".py",
   "mimetype": "text/x-python",
   "name": "python",
   "nbconvert_exporter": "python",
   "pygments_lexer": "ipython3",
   "version": "3.6.2"
  }
 },
 "nbformat": 4,
 "nbformat_minor": 2
}
