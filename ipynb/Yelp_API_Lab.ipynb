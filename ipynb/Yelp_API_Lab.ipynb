{
 "cells": [
  {
   "cell_type": "markdown",
   "metadata": {},
   "source": [
    "# Yelp API Lab\n",
    "\n",
    "This afternoon we will be using the Yelp Fusion API to gather data from yelp. First, you have to make a yelp app. To do this, we need to:\n",
    "\n",
    "* Sign up for a yelp account (if you don't have one).\n",
    "* Create an app [here](https://www.yelp.com/developers/documentation/v3). For our purposes, this is free- However, the amount of results returned will be limited per day, but that's OK for our purposes.\n",
    "\n",
    "<img src=\"yelp_fusion_setup.png\" alt=\"Yelp fusion app setup\" style=\"width: 500px;\"/>\n",
    "\n",
    "\n",
    "* Get your **client id** and **client secret** for your app\n",
    "    * Create a `yelpkeys.py` file and add `yelpkeys.py` to your `.gitignore`\n",
    "    * Your `yelpkeys.py` should contain a dictionary that looks like this:\n",
    "\n",
    "```\n",
    "    keys = {\n",
    "            'client_id':'your_client_id',\n",
    "            'client_secret':'your_client_secret'\n",
    "            }\n",
    "```\n",
    "\n",
    "* Use the documentation at https://github.com/gfairchild/yelpapi to complete this lab. Here are some [examples](https://github.com/gfairchild/yelpapi/blob/master/examples/examples.py) of different queries and arguments."
   ]
  },
  {
   "cell_type": "markdown",
   "metadata": {},
   "source": [
    "Import libraries\n"
   ]
  },
  {
   "cell_type": "code",
   "execution_count": 2,
   "metadata": {
    "collapsed": true
   },
   "outputs": [],
   "source": [
    "import requests\n",
    "import numpy as np\n",
    "import pandas as pd\n",
    "import json\n",
    "from IPython.display import display\n",
    "\n",
    "from yelp_keys import keys"
   ]
  },
  {
   "cell_type": "markdown",
   "metadata": {},
   "source": [
    "Install the python wrapper for the yelp api, yelpapi. If you are using this regularyly, consider adding this to your Dockerfile."
   ]
  },
  {
   "cell_type": "code",
   "execution_count": 3,
   "metadata": {},
   "outputs": [
    {
     "name": "stdout",
     "output_type": "stream",
     "text": [
      "Collecting yelpapi\n",
      "  Downloading yelpapi-2.0.1-py2.py3-none-any.whl\n",
      "Collecting requests-oauthlib (from yelpapi)\n",
      "  Downloading requests_oauthlib-0.8.0-py2.py3-none-any.whl\n",
      "Requirement already satisfied: requests>=2.0.0 in /opt/conda/envs/python2/lib/python2.7/site-packages (from requests-oauthlib->yelpapi)\n",
      "Collecting oauthlib>=0.6.2 (from requests-oauthlib->yelpapi)\n",
      "  Downloading oauthlib-2.0.2.tar.gz (125kB)\n",
      "\u001b[K    100% |████████████████████████████████| 133kB 2.8MB/s ta 0:00:01\n",
      "\u001b[?25hBuilding wheels for collected packages: oauthlib\n",
      "  Running setup.py bdist_wheel for oauthlib ... \u001b[?25l-\b \bdone\n",
      "\u001b[?25h  Stored in directory: /home/jovyan/.cache/pip/wheels/84/98/7a/fba7268f61097bea6081cbe5480bc439b38975748ea7684fd5\n",
      "Successfully built oauthlib\n",
      "Installing collected packages: oauthlib, requests-oauthlib, yelpapi\n",
      "Successfully installed oauthlib-2.0.2 requests-oauthlib-0.8.0 yelpapi-2.0.1\n"
     ]
    }
   ],
   "source": [
    "!pip install yelpapi\n",
    "\n",
    "from yelpapi import YelpAPI"
   ]
  },
  {
   "cell_type": "markdown",
   "metadata": {},
   "source": [
    "View the `.keys()` of your keys. You never want to display your API keys in a notebook or upload them to GitHub. If you do, you are displaying your keys to the world and anyone can use them. That's why we keep them in an external file so we can import them and use them without having to look at them."
   ]
  },
  {
   "cell_type": "code",
   "execution_count": 4,
   "metadata": {
    "scrolled": true
   },
   "outputs": [
    {
     "data": {
      "text/plain": [
       "['client_secret', 'client_id']"
      ]
     },
     "execution_count": 4,
     "metadata": {},
     "output_type": "execute_result"
    }
   ],
   "source": [
    "keys.keys()"
   ]
  },
  {
   "cell_type": "markdown",
   "metadata": {},
   "source": [
    "Instantiate an instance of the yelpapi using your keys dictionary to provide the id and secret without viewing them in the notebook.\n",
    "    \n",
    "    yelp = YelpAPI(keys['client_id'], keys['client_secret'])"
   ]
  },
  {
   "cell_type": "code",
   "execution_count": 5,
   "metadata": {
    "collapsed": true
   },
   "outputs": [],
   "source": [
    "yelp = YelpAPI(keys['client_id'], keys['client_secret'])"
   ]
  },
  {
   "cell_type": "markdown",
   "metadata": {},
   "source": [
    "## Explore the API"
   ]
  },
  {
   "cell_type": "markdown",
   "metadata": {},
   "source": [
    "#### In the documentation, what types of search queries are there?"
   ]
  },
  {
   "cell_type": "code",
   "execution_count": null,
   "metadata": {
    "collapsed": true
   },
   "outputs": [],
   "source": []
  },
  {
   "cell_type": "markdown",
   "metadata": {},
   "source": [
    "#### What are the possible arguments? What do they represent?"
   ]
  },
  {
   "cell_type": "code",
   "execution_count": null,
   "metadata": {
    "collapsed": true
   },
   "outputs": [],
   "source": []
  },
  {
   "cell_type": "markdown",
   "metadata": {},
   "source": [
    "#### Use your YelpAPI object to search for coffee shops in Santa Monica, CA.\n",
    "\n",
    "* Use `.search_query()`\n",
    "* Your arguments should contain:\n",
    "    * `text='coffee'`\n",
    "    * `location='Santa Monica, CA'`"
   ]
  },
  {
   "cell_type": "code",
   "execution_count": null,
   "metadata": {
    "collapsed": true
   },
   "outputs": [],
   "source": []
  },
  {
   "cell_type": "markdown",
   "metadata": {},
   "source": [
    "What is the type of your search result?"
   ]
  },
  {
   "cell_type": "code",
   "execution_count": null,
   "metadata": {
    "collapsed": true
   },
   "outputs": [],
   "source": []
  },
  {
   "cell_type": "markdown",
   "metadata": {},
   "source": [
    "Explore each of the `.keys()`. What are the keys? What do they mean? Make a `pd.DataFrame` of the `businesses` key."
   ]
  },
  {
   "cell_type": "code",
   "execution_count": null,
   "metadata": {
    "collapsed": true
   },
   "outputs": [],
   "source": []
  },
  {
   "cell_type": "markdown",
   "metadata": {},
   "source": [
    "#### Use the `.autocomplete()` method to find something that starts with `cheese` near our current lat/long\n",
    "\n",
    "You can get our lat/long by going to Google Maps, finding our current location, and finding the lat/long in the URL."
   ]
  },
  {
   "cell_type": "code",
   "execution_count": null,
   "metadata": {
    "collapsed": true
   },
   "outputs": [],
   "source": []
  },
  {
   "cell_type": "markdown",
   "metadata": {},
   "source": [
    "#### Get the info for the businesses using the `.business_query()` method"
   ]
  },
  {
   "cell_type": "code",
   "execution_count": null,
   "metadata": {
    "collapsed": true
   },
   "outputs": [],
   "source": []
  },
  {
   "cell_type": "markdown",
   "metadata": {},
   "source": [
    "#### Use the method of your choice to find the best rated Sushi spot in Los Angeles"
   ]
  },
  {
   "cell_type": "code",
   "execution_count": null,
   "metadata": {
    "collapsed": true
   },
   "outputs": [],
   "source": []
  },
  {
   "cell_type": "markdown",
   "metadata": {},
   "source": [
    "#### Use the method of your choice to predict `rating` from `price` and `review_count` for restaurants in Santa Monica. Make sure to set your limit to 50, this is the most we can get with one search. To get more data, add more search terms. What features are important in predicting ratings?\n",
    "\n",
    "This is not intended to be heavy duty prediction, just to show that you can collect your own data for projects using APIs!"
   ]
  },
  {
   "cell_type": "code",
   "execution_count": null,
   "metadata": {
    "collapsed": true
   },
   "outputs": [],
   "source": []
  },
  {
   "cell_type": "markdown",
   "metadata": {},
   "source": [
    "# Collect More Data (Optional)\n",
    "\n",
    "If you feel done with restaurants, begin exploring the Wikipedia API for project 4. \n",
    "\n",
    "Otherwise, use this data (from [the LA County of Public Health](https://ehservices.publichealth.lacounty.gov/ezsearch)) to:\n",
    "* Clean restaurant titles\n",
    "* Query the Yelp api for these restaurants to build a collection of prices, ratings, and review counts\n",
    "* Predict rating from price, and review count. Feel free to bring in other data from this CSV."
   ]
  },
  {
   "cell_type": "code",
   "execution_count": 38,
   "metadata": {
    "collapsed": true
   },
   "outputs": [],
   "source": [
    "rest_data = pd.read_csv('./restaurants.csv', header=None)"
   ]
  },
  {
   "cell_type": "code",
   "execution_count": 39,
   "metadata": {
    "collapsed": true
   },
   "outputs": [],
   "source": [
    "rest_data.columns = ['Inspections','Name','Inspection Date','Rating','Description','Address','City','Zip','Phone']"
   ]
  },
  {
   "cell_type": "code",
   "execution_count": null,
   "metadata": {
    "collapsed": true
   },
   "outputs": [],
   "source": []
  }
 ],
 "metadata": {
  "kernelspec": {
   "display_name": "Python 3",
   "language": "python",
   "name": "python3"
  },
  "language_info": {
   "codemirror_mode": {
    "name": "ipython",
    "version": 3
   },
   "file_extension": ".py",
   "mimetype": "text/x-python",
   "name": "python",
   "nbconvert_exporter": "python",
   "pygments_lexer": "ipython3",
   "version": "3.6.2"
  }
 },
 "nbformat": 4,
 "nbformat_minor": 2
}
